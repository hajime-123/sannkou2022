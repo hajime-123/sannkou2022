{
 "cells": [
  {
   "cell_type": "markdown",
   "id": "2baa69ef",
   "metadata": {},
   "source": [
    "# drw作業１"
   ]
  },
  {
   "cell_type": "markdown",
   "id": "4cbe71f7",
   "metadata": {},
   "source": [
    "pipが使えなくなったのでhttps://qiita.com/yasthon/items/954dc1aef9752838a0f0\n",
    "を参考にpipを入れなおした"
   ]
  },
  {
   "cell_type": "markdown",
   "id": "963bfe79",
   "metadata": {
    "tags": []
   },
   "source": [
    "![1](drw作業画像1/1.PNG)"
   ]
  },
  {
   "cell_type": "markdown",
   "id": "84973cc9",
   "metadata": {
    "tags": []
   },
   "source": [
    "https://github.com/hajime-123/pythonsetup/blob/main/pythonsetup/python%E8%A8%AD%E5%AE%9A.md"
   ]
  },
  {
   "cell_type": "markdown",
   "id": "6504c055",
   "metadata": {
    "tags": []
   },
   "source": [
    "以上のサイトのプログラムを実行。ライブラリをダウンロード"
   ]
  },
  {
   "cell_type": "markdown",
   "id": "79ac706f",
   "metadata": {},
   "source": [
    "![1](drw作業画像1/2.PNG)"
   ]
  },
  {
   "cell_type": "markdown",
   "id": "903a9cb6",
   "metadata": {},
   "source": [
    "```\n",
    "jupyter notebook\n",
    "```"
   ]
  },
  {
   "cell_type": "markdown",
   "id": "6dd7c015",
   "metadata": {},
   "source": [
    "上記のコマンドでjupyterが使用できる。"
   ]
  },
  {
   "cell_type": "markdown",
   "id": "8b4c5633",
   "metadata": {},
   "source": [
    "画像表示がおかしかった。\n",
    "バージョンのせい？"
   ]
  },
  {
   "cell_type": "markdown",
   "id": "cf862f60",
   "metadata": {},
   "source": [
    "![1](drw作業画像1/3.PNG)"
   ]
  },
  {
   "cell_type": "markdown",
   "id": "4874cd59",
   "metadata": {},
   "source": [
    "以前は3.4.1だったのでバージョンを変更してみる"
   ]
  },
  {
   "cell_type": "markdown",
   "id": "c6f2fa88",
   "metadata": {},
   "source": [
    "```\n",
    "pip uninstall matplotlib\n",
    "pip install matplotlib==3.4.1\n",
    "```"
   ]
  },
  {
   "cell_type": "markdown",
   "id": "91b09bca-f445-4f34-82b1-8bc903a479be",
   "metadata": {},
   "source": [
    "vscodeのjupyterのデバッグで動かすとおかしくなるみたい\n",
    "pythonデバックで動かすと問題なかった"
   ]
  },
  {
   "cell_type": "markdown",
   "id": "ac7b60ba",
   "metadata": {},
   "source": [
    "![1](drw作業画像1/4.PNG)"
   ]
  },
  {
   "cell_type": "markdown",
   "id": "4542a377",
   "metadata": {},
   "source": [
    "jupyter --version\n",
    "jupyter lab --version\n",
    "pip uninstall jupyter\n",
    "pip install jupyterlab==\n",
    "pip uninstall jupyterlab"
   ]
  },
  {
   "cell_type": "code",
   "execution_count": null,
   "id": "88164984-848b-4b41-8b9f-8efbe0488326",
   "metadata": {},
   "outputs": [],
   "source": []
  }
 ],
 "metadata": {
  "kernelspec": {
   "display_name": "Python 3 (ipykernel)",
   "language": "python",
   "name": "python3"
  },
  "language_info": {
   "codemirror_mode": {
    "name": "ipython",
    "version": 3
   },
   "file_extension": ".py",
   "mimetype": "text/x-python",
   "name": "python",
   "nbconvert_exporter": "python",
   "pygments_lexer": "ipython3",
   "version": "3.8.9"
  }
 },
 "nbformat": 4,
 "nbformat_minor": 5
}
